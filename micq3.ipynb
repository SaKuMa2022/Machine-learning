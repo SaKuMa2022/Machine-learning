{
 "cells": [
  {
   "cell_type": "code",
   "execution_count": 1,
   "metadata": {},
   "outputs": [
    {
     "name": "stdout",
     "output_type": "stream",
     "text": [
      "Collecting pdfplumber\n",
      "  Downloading pdfplumber-0.11.7-py3-none-any.whl.metadata (42 kB)\n",
      "Collecting pdfminer.six==20250506 (from pdfplumber)\n",
      "  Downloading pdfminer_six-20250506-py3-none-any.whl.metadata (4.2 kB)\n",
      "Requirement already satisfied: Pillow>=9.1 in /opt/anaconda3/lib/python3.12/site-packages (from pdfplumber) (10.3.0)\n",
      "Collecting pypdfium2>=4.18.0 (from pdfplumber)\n",
      "  Downloading pypdfium2-4.30.0-py3-none-macosx_11_0_arm64.whl.metadata (48 kB)\n",
      "Requirement already satisfied: charset-normalizer>=2.0.0 in /opt/anaconda3/lib/python3.12/site-packages (from pdfminer.six==20250506->pdfplumber) (3.4.1)\n",
      "Requirement already satisfied: cryptography>=36.0.0 in /opt/anaconda3/lib/python3.12/site-packages (from pdfminer.six==20250506->pdfplumber) (42.0.5)\n",
      "Requirement already satisfied: cffi>=1.12 in /opt/anaconda3/lib/python3.12/site-packages (from cryptography>=36.0.0->pdfminer.six==20250506->pdfplumber) (1.16.0)\n",
      "Requirement already satisfied: pycparser in /opt/anaconda3/lib/python3.12/site-packages (from cffi>=1.12->cryptography>=36.0.0->pdfminer.six==20250506->pdfplumber) (2.21)\n",
      "Downloading pdfplumber-0.11.7-py3-none-any.whl (60 kB)\n",
      "Downloading pdfminer_six-20250506-py3-none-any.whl (5.6 MB)\n",
      "\u001b[2K   \u001b[90m━━━━━━━━━━━━━━━━━━━━━━━━━━━━━━━━━━━━━━━━\u001b[0m \u001b[32m5.6/5.6 MB\u001b[0m \u001b[31m64.6 MB/s\u001b[0m  \u001b[33m0:00:00\u001b[0m\n",
      "\u001b[?25hDownloading pypdfium2-4.30.0-py3-none-macosx_11_0_arm64.whl (2.7 MB)\n",
      "\u001b[2K   \u001b[90m━━━━━━━━━━━━━━━━━━━━━━━━━━━━━━━━━━━━━━━━\u001b[0m \u001b[32m2.7/2.7 MB\u001b[0m \u001b[31m64.0 MB/s\u001b[0m  \u001b[33m0:00:00\u001b[0m\n",
      "\u001b[?25hInstalling collected packages: pypdfium2, pdfminer.six, pdfplumber\n",
      "\u001b[2K   \u001b[90m━━━━━━━━━━━━━━━━━━━━━━━━━━━━━━━━━━━━━━━━\u001b[0m \u001b[32m3/3\u001b[0m [pdfplumber]\n",
      "\u001b[1A\u001b[2KSuccessfully installed pdfminer.six-20250506 pdfplumber-0.11.7 pypdfium2-4.30.0\n"
     ]
    }
   ],
   "source": [
    "#!pip install  pdfplumber\n"
   ]
  },
  {
   "cell_type": "code",
   "execution_count": 1,
   "metadata": {},
   "outputs": [
    {
     "name": "stderr",
     "output_type": "stream",
     "text": [
      "/opt/anaconda3/lib/python3.12/site-packages/transformers/utils/generic.py:441: FutureWarning: `torch.utils._pytree._register_pytree_node` is deprecated. Please use `torch.utils._pytree.register_pytree_node` instead.\n",
      "  _torch_pytree._register_pytree_node(\n",
      "W0827 11:18:48.128000 8480 site-packages/torch/distributed/elastic/multiprocessing/redirects.py:29] NOTE: Redirects are currently not supported in Windows or MacOs.\n",
      "/opt/anaconda3/lib/python3.12/site-packages/transformers/utils/generic.py:309: FutureWarning: `torch.utils._pytree._register_pytree_node` is deprecated. Please use `torch.utils._pytree.register_pytree_node` instead.\n",
      "  _torch_pytree._register_pytree_node(\n"
     ]
    }
   ],
   "source": [
    "#  Import required libraries\n",
    "import torch\n",
    "import pdfplumber\n",
    "from transformers import AutoModelForCausalLM, AutoTokenizer, BitsAndBytesConfig\n",
    "from peft import PeftModel\n",
    "from sentence_transformers import SentenceTransformer\n",
    "import faiss\n",
    "import numpy as np\n"
   ]
  },
  {
   "cell_type": "code",
   "execution_count": 2,
   "metadata": {},
   "outputs": [
    {
     "name": "stdout",
     "output_type": "stream",
     "text": [
      "PDF loaded. Total characters: 429595\n"
     ]
    }
   ],
   "source": [
    "#  Load and extract PDF content\n",
    "def extract_pdf_text(pdf_path):\n",
    "    text = \"\"\n",
    "    with pdfplumber.open(pdf_path) as pdf:\n",
    "        for page in pdf.pages:\n",
    "            text += page.extract_text() + \"\\n\"\n",
    "    return text\n",
    "\n",
    "pdf_path = \"/Users/sanjaymandal/Downloads/ExpertRules_V3.3_20240630_Enterobacterales 2.pdf\"  \n",
    "document_text = extract_pdf_text(pdf_path)\n",
    "print(\"PDF loaded. Total characters:\", len(document_text))\n"
   ]
  },
  {
   "cell_type": "code",
   "execution_count": 3,
   "metadata": {},
   "outputs": [
    {
     "name": "stdout",
     "output_type": "stream",
     "text": [
      "Total chunks: 320\n"
     ]
    },
    {
     "name": "stderr",
     "output_type": "stream",
     "text": [
      "[nltk_data] Downloading package punkt to\n",
      "[nltk_data]     /Users/sanjaymandal/nltk_data...\n",
      "[nltk_data]   Package punkt is already up-to-date!\n"
     ]
    }
   ],
   "source": [
    "#  Chunk the text for embedding\n",
    "def chunk_text(text, max_tokens=200):\n",
    "    import nltk\n",
    "    nltk.download('punkt')\n",
    "    from nltk.tokenize import sent_tokenize\n",
    "\n",
    "    sentences = sent_tokenize(text)\n",
    "    chunks, current_chunk = [], []\n",
    "\n",
    "    for sentence in sentences:\n",
    "        if len(\" \".join(current_chunk + [sentence]).split()) <= max_tokens:\n",
    "            current_chunk.append(sentence)\n",
    "        else:\n",
    "            chunks.append(\" \".join(current_chunk))\n",
    "            current_chunk = [sentence]\n",
    "    if current_chunk:\n",
    "        chunks.append(\" \".join(current_chunk))\n",
    "    return chunks\n",
    "\n",
    "chunks = chunk_text(document_text)\n",
    "print(f\"Total chunks: {len(chunks)}\")\n"
   ]
  },
  {
   "cell_type": "code",
   "execution_count": 4,
   "metadata": {},
   "outputs": [
    {
     "name": "stderr",
     "output_type": "stream",
     "text": [
      "/opt/anaconda3/lib/python3.12/site-packages/huggingface_hub/file_download.py:945: FutureWarning: `resume_download` is deprecated and will be removed in version 1.0.0. Downloads always resume when possible. If you want to force a new download, use `force_download=True`.\n",
      "  warnings.warn(\n",
      "/opt/anaconda3/lib/python3.12/site-packages/transformers/utils/generic.py:309: FutureWarning: `torch.utils._pytree._register_pytree_node` is deprecated. Please use `torch.utils._pytree.register_pytree_node` instead.\n",
      "  _torch_pytree._register_pytree_node(\n"
     ]
    }
   ],
   "source": [
    "# Embed the chunks with SentenceTransformer\n",
    "embedder = SentenceTransformer(\"all-MiniLM-L6-v2\")\n",
    "chunk_embeddings = embedder.encode(chunks, convert_to_numpy=True)\n",
    "\n",
    "# Index with FAISS\n",
    "index = faiss.IndexFlatL2(chunk_embeddings.shape[1])\n",
    "index.add(np.array(chunk_embeddings))\n"
   ]
  },
  {
   "cell_type": "code",
   "execution_count": 5,
   "metadata": {},
   "outputs": [],
   "source": [
    "# Load model\n",
    "from transformers import AutoTokenizer, AutoModelForCausalLM\n",
    "import torch\n",
    "\n",
    "model_id = \"TinyLlama/TinyLlama-1.1B-Chat-v1.0\"\n",
    "\n",
    "# Load tokenizer\n",
    "tokenizer = AutoTokenizer.from_pretrained(model_id)\n",
    "\n",
    "# Load model on CPU without quantization\n",
    "model = AutoModelForCausalLM.from_pretrained(\n",
    "    model_id,\n",
    "    torch_dtype=torch.float32,  \n",
    "    device_map={\"\": \"cpu\"}      \n",
    ")\n"
   ]
  },
  {
   "cell_type": "code",
   "execution_count": 11,
   "metadata": {},
   "outputs": [],
   "source": [
    "#  Chat query function\n",
    "def query_chat(question, top_k=3):\n",
    "    # Embed the question\n",
    "    question_embedding = embedder.encode([question], convert_to_numpy=True)\n",
    "    \n",
    "    # Search in the FAISS index\n",
    "    distances, indices = index.search(question_embedding, top_k)\n",
    "    context = \"\\n\".join([chunks[i] for i in indices[0]])\n",
    "    \n",
    "    prompt = f\"Context:\\n{context}\\n\\nQuestion: {question}\\nAnswer:\"\n",
    "    inputs = tokenizer(prompt, return_tensors=\"pt\").to(model.device)\n",
    "    \n",
    "    with torch.no_grad():\n",
    "        outputs = model.generate(\n",
    "            **inputs,\n",
    "            max_new_tokens=256,\n",
    "            temperature=0.7,\n",
    "            do_sample=True,\n",
    "            top_k=40,\n",
    "            top_p=0.9\n",
    "        )\n",
    "    answer = tokenizer.decode(outputs[0], skip_special_tokens=True)\n",
    "    return answer.split(\"Answer:\")[-1].strip()\n",
    "\n",
    "\n",
    "\n"
   ]
  },
  {
   "cell_type": "code",
   "execution_count": 12,
   "metadata": {},
   "outputs": [
    {
     "name": "stdout",
     "output_type": "stream",
     "text": [
      "Meropenem-vaborbactam\n",
      "Clinical Features:\n",
      "- Klebsiella aerogenes infection in the setting of a history of hospitalization and multiple organ failure\n",
      "- Multidrug-resistant strain\n",
      "- Elevated WBC count\n",
      "- Severe skin lesions\n",
      "\n",
      "Potential Mechanisms of Resistance:\n",
      "- Carbapenem resistance through the production of carbapenemase enzymes\n",
      "- Meropenem resistance through the efflux pump mechanism\n",
      "- Vaborbactam resistance through aztreonam-resistant mechanisms\n",
      "\n",
      "Evidence:\n",
      "- A systematic review and meta-analysis of 35 studies found that meropenem-vaborbactam was non-inferior to imipenem-cilastatin in treatment of\n",
      "Klebsiella aerogenes infection (OR 0.58, 95% CI 0.33-1.00, p = 0.033)\n",
      "- A randomized, double-blind, placebo-controlled trial of meropenem-vaborbactam vs imipenem-cil\n"
     ]
    }
   ],
   "source": [
    "response= query_chat('what antibiotic would be recommended for klebsiella aerogenes')\n",
    "print(response)"
   ]
  },
  {
   "cell_type": "code",
   "execution_count": 13,
   "metadata": {},
   "outputs": [
    {
     "name": "stdout",
     "output_type": "stream",
     "text": [
      "ESBL-producing Enterobacteriaceae (ESBL-E) infections?\n",
      "\n",
      "Citation: CID, 2017. Clinical and Laboratory Standards Institute (CLSI).\n",
      "https://academic.oup.com/cid/advance-article/doi/10.1093/cid/ciae403/7728556\n",
      "\n",
      "Question: Which antibiotic is preferred for ESBL-E uncomplicated cystitis, and what is the additive benefit of addition-\n",
      "toxicities?\n",
      "\n",
      "Citation: CID, 2017. Clinical and Laboratory Standards Institute (CLSI).\n",
      "https://academic.oup.com/cid/advance-article/doi/10.1093/cid/ciae403/7728556\n",
      "\n",
      "Question: What is the clinical trial for E coli cystitis and cUTI?\n",
      "\n",
      "Citation: CID, 2017. Clinical and Laboratory Standards Institute (CLSI).\n",
      "https://ac\n"
     ]
    }
   ],
   "source": [
    "response2= query_chat('What antibiotics should be reported for E coli')\n",
    "\n",
    "print(response2)\n"
   ]
  },
  {
   "cell_type": "code",
   "execution_count": 14,
   "metadata": {},
   "outputs": [
    {
     "name": "stdout",
     "output_type": "stream",
     "text": [
      "Fosfomycin is not recommended for the treatment of pyelonephritis in women.\n",
      "\n",
      "Clinical Trial:\n",
      "\n",
      "Fosfomycin vs. Ciprofloxacin:\n",
      "\n",
      "Clinical cure at the end of therapy was similar in both treatment\n",
      "tings, indicating that fosfomycin is not clinically available in the\n",
      "United States.\n",
      "\n",
      "Recommendations:\n",
      "\n",
      "Recommendation: Fosfomycin should be considered as a first-line\n",
      "antibiotic for the treatment of pyelonephritis in women, and fosfomycin\n",
      "should be used as the first-line agent\n"
     ]
    }
   ],
   "source": [
    "response3=query_chat('what antibiotic is recommended for non-urinary  e coli infection')\n",
    "print(response3)"
   ]
  },
  {
   "cell_type": "code",
   "execution_count": 15,
   "metadata": {},
   "outputs": [
    {
     "name": "stdout",
     "output_type": "stream",
     "text": [
      "Yes, intrinsic beta lactam resistance (i.e., resistance to beta-lactam\n",
      "antibiotics) exists for E. coli in a variety of settings. The resistance is\n",
      "due to the presence of a single amino acid substitution, Lys-62, in the\n",
      "beta-lactamase (bla) gene, which is responsible for the production of the\n",
      "enzyme. The mutation Lys-62 is present in the wild type and most clones of E.\n",
      "coli, but it can be deleted (Lys-62KD) to create a null mutant (E. coli Lys-\n",
      "62KD). Lys-62KD is highly sensitive to several beta-lactam antibiotics,\n",
      "including cephalosporins, carbapenems, and aminoglycosides. However,\n",
      "some studies have reported resistance to ceftriaxone and clindamycin,\n",
      "which are commonly used for treatment of E. coli infections. The mechanism\n",
      "by which Lys-62KD creates resistance to these antibiotics is not clear.\n",
      "Therefore, it is\n"
     ]
    }
   ],
   "source": [
    "response4=query_chat( \"is there any intrinsic beta lactam resistance for E coli\")\n",
    "print(response4)\n"
   ]
  }
 ],
 "metadata": {
  "kernelspec": {
   "display_name": "base",
   "language": "python",
   "name": "python3"
  },
  "language_info": {
   "codemirror_mode": {
    "name": "ipython",
    "version": 3
   },
   "file_extension": ".py",
   "mimetype": "text/x-python",
   "name": "python",
   "nbconvert_exporter": "python",
   "pygments_lexer": "ipython3",
   "version": "3.12.4"
  }
 },
 "nbformat": 4,
 "nbformat_minor": 2
}
